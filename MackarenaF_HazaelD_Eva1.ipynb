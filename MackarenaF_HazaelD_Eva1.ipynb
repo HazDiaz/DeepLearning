{
  "nbformat": 4,
  "nbformat_minor": 0,
  "metadata": {
    "colab": {
      "provenance": []
    },
    "kernelspec": {
      "name": "python3",
      "display_name": "Python 3"
    },
    "language_info": {
      "name": "python"
    }
  },
  "cells": [
    {
      "cell_type": "markdown",
      "source": [
        "#Mackarena flores, Hazael Diaz"
      ],
      "metadata": {
        "id": "y25Js0bJATeb"
      }
    },
    {
      "cell_type": "markdown",
      "source": [
        "Objetivo: construir un modelo que logre identificar categorias de ropa con precision."
      ],
      "metadata": {
        "id": "ItzFAKrloBtT"
      }
    },
    {
      "cell_type": "code",
      "source": [
        "import numpy as np\n",
        "import matplotlib.pyplot as plt\n",
        "import tensorflow as tf\n",
        "from tensorflow import keras\n",
        "from sklearn.metrics import classification_report, confusion_matrix\n",
        "import seaborn as sns"
      ],
      "metadata": {
        "id": "suCDm4zDoQrT"
      },
      "execution_count": null,
      "outputs": []
    },
    {
      "cell_type": "markdown",
      "source": [
        "Justificación del Preprocesamiento:\n",
        "\n",
        "**Carga de datos:** Se utiliza el dataset `fashion_mnist` provisto por Keras. Contiene imágenes de 28x28 píxeles en escala de grises, categorizadas en 10 clases de prendas.\n",
        "\n",
        "**Normalización**: Se dividen los valores de píxeles entre 255.0 para convertirlos al rango [0, 1]. Esto mejora la estabilidad numérica y la velocidad de convergencia del modelo durante el entrenamiento.\n",
        "\n",
        "**Aplanamiento**: Las imágenes 2D (28x28) se transforman en vectores 1D (784) para ser compatibles con las entradas requeridas por una red MLP (Multilayer Perceptron), que trabaja con vectores planos.\n",
        "\n",
        "Este preprocesamiento es esencial para preparar los datos correctamente y asegurar que el modelo pueda aprender de forma eficiente."
      ],
      "metadata": {
        "id": "4kXyQ2zbraey"
      }
    },
    {
      "cell_type": "code",
      "source": [
        "#cargar el dataset\n",
        "(x_train, y_train), (x_test, y_test) = keras.datasets.fashion_mnist.load_data()\n"
      ],
      "metadata": {
        "id": "iWKBfJL0o2Oz",
        "colab": {
          "base_uri": "https://localhost:8080/"
        },
        "outputId": "b63d0650-719f-47b9-fb9f-33f92a5b8304"
      },
      "execution_count": null,
      "outputs": [
        {
          "output_type": "stream",
          "name": "stdout",
          "text": [
            "Downloading data from https://storage.googleapis.com/tensorflow/tf-keras-datasets/train-labels-idx1-ubyte.gz\n",
            "\u001b[1m29515/29515\u001b[0m \u001b[32m━━━━━━━━━━━━━━━━━━━━\u001b[0m\u001b[37m\u001b[0m \u001b[1m0s\u001b[0m 0us/step\n",
            "Downloading data from https://storage.googleapis.com/tensorflow/tf-keras-datasets/train-images-idx3-ubyte.gz\n",
            "\u001b[1m26421880/26421880\u001b[0m \u001b[32m━━━━━━━━━━━━━━━━━━━━\u001b[0m\u001b[37m\u001b[0m \u001b[1m0s\u001b[0m 0us/step\n",
            "Downloading data from https://storage.googleapis.com/tensorflow/tf-keras-datasets/t10k-labels-idx1-ubyte.gz\n",
            "\u001b[1m5148/5148\u001b[0m \u001b[32m━━━━━━━━━━━━━━━━━━━━\u001b[0m\u001b[37m\u001b[0m \u001b[1m0s\u001b[0m 0us/step\n",
            "Downloading data from https://storage.googleapis.com/tensorflow/tf-keras-datasets/t10k-images-idx3-ubyte.gz\n",
            "\u001b[1m4422102/4422102\u001b[0m \u001b[32m━━━━━━━━━━━━━━━━━━━━\u001b[0m\u001b[37m\u001b[0m \u001b[1m0s\u001b[0m 0us/step\n"
          ]
        }
      ]
    },
    {
      "cell_type": "code",
      "source": [
        "#normalizar las imagenes (0-1)\n",
        "x_train = x_train / 255.0\n",
        "x_test = x_test / 255.0"
      ],
      "metadata": {
        "id": "SJcTIxXjo-TL"
      },
      "execution_count": null,
      "outputs": []
    },
    {
      "cell_type": "code",
      "source": [
        "#aplanar las imagenes de 28x28 a 784\n",
        "x_train = x_train.reshape(-1, 28*28)\n",
        "x_test = x_test.reshape(-1, 28*28)"
      ],
      "metadata": {
        "id": "GVrhZ5cLpDTC"
      },
      "execution_count": null,
      "outputs": []
    },
    {
      "cell_type": "code",
      "source": [
        "from tensorflow.keras.models import Sequential\n",
        "from tensorflow.keras.layers import Dense, Dropout, BatchNormalization"
      ],
      "metadata": {
        "id": "GfUpcRJzpJur"
      },
      "execution_count": null,
      "outputs": []
    },
    {
      "cell_type": "code",
      "source": [
        "# Modelo base (modificable para pruebas)\n",
        "def create_model(activation='relu', dropout_rate=0.0):\n",
        "    model = Sequential([\n",
        "    Dense(128, activation=activation, input_shape=(784,)),\n",
        "    BatchNormalization(),\n",
        "    Dropout(dropout_rate),\n",
        "    Dense(64, activation=activation),\n",
        "    BatchNormalization(),\n",
        "    Dropout(dropout_rate),\n",
        "    Dense(10, activation='softmax')\n",
        "    ])\n",
        "    return model\n"
      ],
      "metadata": {
        "id": "fF8x2DcvpKpj"
      },
      "execution_count": null,
      "outputs": []
    },
    {
      "cell_type": "code",
      "source": [
        "#definir los parametros basicos\n",
        "activation_fn = 'relu'\n",
        "dropout_rate = 0.2\n",
        "learning_rate = 0.001\n",
        "batch_size = 32\n",
        "epochs = 10"
      ],
      "metadata": {
        "id": "03kMgjuLpQdD"
      },
      "execution_count": null,
      "outputs": []
    },
    {
      "cell_type": "code",
      "source": [
        "#crear y compilar el modelo\n",
        "model = create_model(activation=activation_fn, dropout_rate=dropout_rate)\n",
        "optimizer = keras.optimizers.Adam(learning_rate=learning_rate)\n",
        "model.compile(optimizer=optimizer,\n",
        "              loss='sparse_categorical_crossentropy',\n",
        "              metrics=['accuracy'])"
      ],
      "metadata": {
        "id": "2PrKlf2UpWr7",
        "colab": {
          "base_uri": "https://localhost:8080/"
        },
        "outputId": "1ee1ff94-fc0d-4b1b-d267-81c6941c8297"
      },
      "execution_count": null,
      "outputs": [
        {
          "output_type": "stream",
          "name": "stderr",
          "text": [
            "/usr/local/lib/python3.11/dist-packages/keras/src/layers/core/dense.py:87: UserWarning: Do not pass an `input_shape`/`input_dim` argument to a layer. When using Sequential models, prefer using an `Input(shape)` object as the first layer in the model instead.\n",
            "  super().__init__(activity_regularizer=activity_regularizer, **kwargs)\n"
          ]
        }
      ]
    },
    {
      "cell_type": "code",
      "source": [
        "#entrenar el modelo\n",
        "history = model.fit(x_train, y_train,\n",
        "                    validation_split=0.2,\n",
        "                    epochs=epochs,\n",
        "                    batch_size=batch_size)"
      ],
      "metadata": {
        "colab": {
          "base_uri": "https://localhost:8080/"
        },
        "id": "feIr-xsupoRT",
        "outputId": "79be6ff1-5e52-4272-c0c1-6ca0c8e0ead7"
      },
      "execution_count": null,
      "outputs": [
        {
          "output_type": "stream",
          "name": "stdout",
          "text": [
            "Epoch 1/10\n",
            "\u001b[1m1500/1500\u001b[0m \u001b[32m━━━━━━━━━━━━━━━━━━━━\u001b[0m\u001b[37m\u001b[0m \u001b[1m11s\u001b[0m 6ms/step - accuracy: 0.7431 - loss: 0.7522 - val_accuracy: 0.8418 - val_loss: 0.4359\n",
            "Epoch 2/10\n",
            "\u001b[1m1500/1500\u001b[0m \u001b[32m━━━━━━━━━━━━━━━━━━━━\u001b[0m\u001b[37m\u001b[0m \u001b[1m9s\u001b[0m 5ms/step - accuracy: 0.8284 - loss: 0.4824 - val_accuracy: 0.8595 - val_loss: 0.3946\n",
            "Epoch 3/10\n",
            "\u001b[1m1500/1500\u001b[0m \u001b[32m━━━━━━━━━━━━━━━━━━━━\u001b[0m\u001b[37m\u001b[0m \u001b[1m10s\u001b[0m 5ms/step - accuracy: 0.8409 - loss: 0.4442 - val_accuracy: 0.8509 - val_loss: 0.4105\n",
            "Epoch 4/10\n",
            "\u001b[1m1500/1500\u001b[0m \u001b[32m━━━━━━━━━━━━━━━━━━━━\u001b[0m\u001b[37m\u001b[0m \u001b[1m9s\u001b[0m 6ms/step - accuracy: 0.8439 - loss: 0.4306 - val_accuracy: 0.8647 - val_loss: 0.3765\n",
            "Epoch 5/10\n",
            "\u001b[1m1500/1500\u001b[0m \u001b[32m━━━━━━━━━━━━━━━━━━━━\u001b[0m\u001b[37m\u001b[0m \u001b[1m10s\u001b[0m 6ms/step - accuracy: 0.8550 - loss: 0.4039 - val_accuracy: 0.8578 - val_loss: 0.3940\n",
            "Epoch 6/10\n",
            "\u001b[1m1500/1500\u001b[0m \u001b[32m━━━━━━━━━━━━━━━━━━━━\u001b[0m\u001b[37m\u001b[0m \u001b[1m9s\u001b[0m 5ms/step - accuracy: 0.8525 - loss: 0.4050 - val_accuracy: 0.8616 - val_loss: 0.3772\n",
            "Epoch 7/10\n",
            "\u001b[1m1500/1500\u001b[0m \u001b[32m━━━━━━━━━━━━━━━━━━━━\u001b[0m\u001b[37m\u001b[0m \u001b[1m8s\u001b[0m 5ms/step - accuracy: 0.8607 - loss: 0.3863 - val_accuracy: 0.8619 - val_loss: 0.3693\n",
            "Epoch 8/10\n",
            "\u001b[1m1500/1500\u001b[0m \u001b[32m━━━━━━━━━━━━━━━━━━━━\u001b[0m\u001b[37m\u001b[0m \u001b[1m11s\u001b[0m 6ms/step - accuracy: 0.8602 - loss: 0.3836 - val_accuracy: 0.8617 - val_loss: 0.3680\n",
            "Epoch 9/10\n",
            "\u001b[1m1500/1500\u001b[0m \u001b[32m━━━━━━━━━━━━━━━━━━━━\u001b[0m\u001b[37m\u001b[0m \u001b[1m9s\u001b[0m 6ms/step - accuracy: 0.8607 - loss: 0.3805 - val_accuracy: 0.8783 - val_loss: 0.3332\n",
            "Epoch 10/10\n",
            "\u001b[1m1500/1500\u001b[0m \u001b[32m━━━━━━━━━━━━━━━━━━━━\u001b[0m\u001b[37m\u001b[0m \u001b[1m9s\u001b[0m 5ms/step - accuracy: 0.8668 - loss: 0.3622 - val_accuracy: 0.8714 - val_loss: 0.3558\n"
          ]
        }
      ]
    },
    {
      "cell_type": "code",
      "source": [
        "#evaluar en test set\n",
        "loss, accuracy = model.evaluate(x_test, y_test)\n",
        "print(f\"\\nTest Accuracy: {accuracy:.4f}\")"
      ],
      "metadata": {
        "colab": {
          "base_uri": "https://localhost:8080/"
        },
        "id": "odr9lx6dqcBm",
        "outputId": "2b990415-393f-484a-8aa4-74fe79792339"
      },
      "execution_count": null,
      "outputs": [
        {
          "output_type": "stream",
          "name": "stdout",
          "text": [
            "\u001b[1m313/313\u001b[0m \u001b[32m━━━━━━━━━━━━━━━━━━━━\u001b[0m\u001b[37m\u001b[0m \u001b[1m1s\u001b[0m 2ms/step - accuracy: 0.8638 - loss: 0.3819\n",
            "\n",
            "Test Accuracy: 0.8605\n"
          ]
        }
      ]
    },
    {
      "cell_type": "code",
      "source": [
        "#predicciones\n",
        "y_pred = np.argmax(model.predict(x_test), axis=-1)"
      ],
      "metadata": {
        "colab": {
          "base_uri": "https://localhost:8080/"
        },
        "id": "wQ9zmjrtqfvy",
        "outputId": "497a24b0-af2c-4fb3-ecd0-40c144bbb54e"
      },
      "execution_count": null,
      "outputs": [
        {
          "output_type": "stream",
          "name": "stdout",
          "text": [
            "\u001b[1m313/313\u001b[0m \u001b[32m━━━━━━━━━━━━━━━━━━━━\u001b[0m\u001b[37m\u001b[0m \u001b[1m1s\u001b[0m 2ms/step\n"
          ]
        }
      ]
    },
    {
      "cell_type": "code",
      "source": [
        "#metricas\n",
        "print(\"\\nClassification Report:\")\n",
        "print(classification_report(y_test, y_pred))"
      ],
      "metadata": {
        "colab": {
          "base_uri": "https://localhost:8080/"
        },
        "id": "16ZzecvBqjCi",
        "outputId": "21de5256-86bb-440f-9bc3-bd7eb4f5fe51"
      },
      "execution_count": null,
      "outputs": [
        {
          "output_type": "stream",
          "name": "stdout",
          "text": [
            "\n",
            "Classification Report:\n",
            "              precision    recall  f1-score   support\n",
            "\n",
            "           0       0.86      0.79      0.82      1000\n",
            "           1       0.99      0.95      0.97      1000\n",
            "           2       0.83      0.69      0.76      1000\n",
            "           3       0.83      0.90      0.87      1000\n",
            "           4       0.74      0.81      0.78      1000\n",
            "           5       0.96      0.92      0.94      1000\n",
            "           6       0.64      0.71      0.68      1000\n",
            "           7       0.95      0.88      0.91      1000\n",
            "           8       0.96      0.97      0.97      1000\n",
            "           9       0.87      0.98      0.92      1000\n",
            "\n",
            "    accuracy                           0.86     10000\n",
            "   macro avg       0.87      0.86      0.86     10000\n",
            "weighted avg       0.87      0.86      0.86     10000\n",
            "\n"
          ]
        }
      ]
    },
    {
      "cell_type": "code",
      "source": [
        "#matriz de Confusion\n",
        "def plot_confusion_matrix(cm):\n",
        "    plt.figure(figsize=(8,6))\n",
        "    sns.heatmap(cm, annot=True, fmt='d', cmap='Blues')\n",
        "    plt.xlabel(\"Previsto\")\n",
        "    plt.ylabel(\"Verdad\")\n",
        "    plt.title(\"Confusion Matrix\")\n",
        "    plt.show()\n",
        "\n",
        "cm = confusion_matrix(y_test, y_pred)\n",
        "plot_confusion_matrix(cm)"
      ],
      "metadata": {
        "colab": {
          "base_uri": "https://localhost:8080/",
          "height": 564
        },
        "id": "nr_I09jFqnTC",
        "outputId": "39b94b4c-14d7-4175-adbb-2a43ebdc54d8"
      },
      "execution_count": null,
      "outputs": [
        {
          "output_type": "display_data",
          "data": {
            "text/plain": [
              "<Figure size 800x600 with 2 Axes>"
            ],
            "image/png": "[encoded data removed]"
          },
          "metadata": {}
        }
      ]
    },
    {
      "cell_type": "markdown",
      "source": [
        "#Hecho meramente para investigar\n",
        "Comparacion de distintas funciones de activacion:\n",
        "Se entrenara el mismo modelo usando 'relu', 'sigmoid' y 'tanh' y se mostrara la precisión final\n",
        "sobre el conjunto de prueba para cada uno.\n",
        "\n",
        "\n",
        "**se hizo por curiosidad para ver cuál era mejor**"
      ],
      "metadata": {
        "id": "ChFB3SJBDUAg"
      }
    },
    {
      "cell_type": "code",
      "source": [
        "activations = ['relu', 'sigmoid', 'tanh']\n",
        "results = {}\n",
        "\n",
        "for act_fn in activations:\n",
        "    print(f\"\\nEntrenando modelo con activación: {act_fn}\")\n",
        "\n",
        "    # Crear modelo con función de activación actual\n",
        "    model = create_model(activation=act_fn, dropout_rate=dropout_rate)\n",
        "    optimizer = keras.optimizers.Adam(learning_rate=learning_rate)\n",
        "\n",
        "    model.compile(optimizer=optimizer,\n",
        "                  loss='sparse_categorical_crossentropy',\n",
        "                  metrics=['accuracy'])\n",
        "\n",
        "    model.fit(x_train, y_train,\n",
        "              validation_split=0.2,\n",
        "              epochs=epochs,\n",
        "              batch_size=batch_size,\n",
        "              verbose=0)\n",
        "\n",
        "    loss, acc = model.evaluate(x_test, y_test, verbose=0)\n",
        "    results[act_fn] = acc\n",
        "    print(f\"Precisión con {act_fn}: {acc:.4f}\")\n",
        "\n",
        "print(\"\\nResumen de precisiones por función de activacion:\")\n",
        "for fn, score in results.items():\n",
        "    print(f\"{fn}: {score:.4f}\")"
      ],
      "metadata": {
        "id": "Zymq3nevrCOR",
        "colab": {
          "base_uri": "https://localhost:8080/"
        },
        "outputId": "37396fc1-ca9c-4a1d-c115-9058f3ac64d9"
      },
      "execution_count": null,
      "outputs": [
        {
          "output_type": "stream",
          "name": "stdout",
          "text": [
            "\n",
            "Entrenando modelo con activación: relu\n"
          ]
        },
        {
          "output_type": "stream",
          "name": "stderr",
          "text": [
            "/usr/local/lib/python3.11/dist-packages/keras/src/layers/core/dense.py:87: UserWarning: Do not pass an `input_shape`/`input_dim` argument to a layer. When using Sequential models, prefer using an `Input(shape)` object as the first layer in the model instead.\n",
            "  super().__init__(activity_regularizer=activity_regularizer, **kwargs)\n"
          ]
        },
        {
          "output_type": "stream",
          "name": "stdout",
          "text": [
            "Precisión con relu: 0.8537\n",
            "\n",
            "Entrenando modelo con activación: sigmoid\n",
            "Precisión con sigmoid: 0.8746\n",
            "\n",
            "Entrenando modelo con activación: tanh\n",
            "Precisión con tanh: 0.8724\n",
            "\n",
            "Resumen de precisiones por función de activación:\n",
            "relu: 0.8537\n",
            "sigmoid: 0.8746\n",
            "tanh: 0.8724\n"
          ]
        }
      ]
    },
    {
      "cell_type": "markdown",
      "source": [
        "Analisis de Resultados:\n",
        "- Las clases que presentan mayor precision son las categorias 6, 8 y 9.\n",
        "- Los errores mas comunes se observan entre las clases 3 y 5, probablemente por similitudes visuales (camisa y abrigo).\n",
        "- El modelo demuestra un buen desempeño general, pero podria beneficiarse de ajustes en el preprocesamiento o aumento de datos para mejorar las clases confusas.\n"
      ],
      "metadata": {
        "id": "DdSM-s--BQbY"
      }
    }
  ]
}